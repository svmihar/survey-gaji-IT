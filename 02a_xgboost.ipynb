{
 "cells": [
  {
   "cell_type": "code",
   "execution_count": 2,
   "metadata": {},
   "outputs": [],
   "source": [
    "import pandas as pd\n",
    "\n",
    "df = pd.read_csv('./data/form.csv')\n",
    "df.columns = ['timestamp', 'sex', 'age', 'city','employee_sum', 'yearly', 'yearly_bonus', 'stock_options', 'position', 'experience', 'education', 'insurance']\n",
    "\n",
    "def ganti_education(s): \n",
    "    if 's1' in s.lower() or 's.' in s.lower() or 'sarjana' in s.lower() or 'bachelor' in s.lower() or 'b.' in s.lower() or 'ilmu komputer' in s.lower(): \n",
    "        return 'S1'\n",
    "    elif 's2' in s.lower() or 'master' in s.lower(): \n",
    "        return 's2'\n",
    "    elif 'smk' in s.lower() or 'sma' in s.lower() or 'senior year' in s.lower() or 'man' in s.lower() or 'college courses' in s.lower() or 'smu' in s.lower(): \n",
    "        return 'SMA'\n",
    "    elif 'diploma' in s.lower() or 'd4' in s.lower() or 'd3' in s.lower() or 'd2' in s.lower() or 'd1' in s.lower(): \n",
    "        return 'diploma'\n",
    "    elif 'self taught' == s.lower(): \n",
    "        return 'self taught'\n",
    "    else: \n",
    "        return 'KELAINAN'\n",
    "\n",
    "def ngisi_experience_masa_pake_tahun(s):\n",
    "    if isinstance(s, float): \n",
    "        return s\n",
    "    \n",
    "    if s: \n",
    "        for a in s.split(): \n",
    "            if a.isdigit(): \n",
    "                return int(a)\n",
    "    else: \n",
    "        return 0\n",
    "\n",
    "def jakarta_mah_jakarta_aja(s): \n",
    "    if 'jakarta' in s.lower(): \n",
    "        return 'jakarta'\n",
    "    else: \n",
    "        return 'not jakarta'\n",
    "\n",
    "def insurance_to_categorical(ins):\n",
    "    if isinstance(ins, float): \n",
    "        return 'no'\n",
    "    elif ins.isdigit(): \n",
    "        if int(ins)>0: \n",
    "            return 'no'\n",
    "        else: \n",
    "            return 'yes'\n",
    "    elif isinstance(ins, str): \n",
    "        return 'yes'\n",
    "\n",
    "\n",
    "df['education'] = df['education'].apply(ganti_education)\n",
    "df['experience'] = df['experience'].apply(ngisi_experience_masa_pake_tahun)\n",
    "\n",
    "df['yearly'] = df['yearly'].str.replace('.','')\n",
    "df['yearly_bonus'] = df['yearly_bonus'].str.replace('.','')\n",
    "\n",
    "df['yearly'] = pd.to_numeric(df['yearly'])\n",
    "df['yearly_bonus'] = pd.to_numeric(df['yearly_bonus'])\n",
    "\n",
    "df['yearly_bonus'] = df['yearly_bonus'].fillna(0)\n",
    "df['stock_options'] = df['stock_options'].fillna(0)\n",
    "\n",
    "\n",
    "df['city'] = df['city'].apply(jakarta_mah_jakarta_aja)\n",
    "df['insurance'] = df['insurance'].apply(insurance_to_categorical)\n",
    "\n",
    "\n",
    "df.drop('timestamp', inplace=True, axis=1)\n",
    "df_ohe = pd.get_dummies(df)\n"
   ]
  },
  {
   "cell_type": "code",
   "execution_count": 7,
   "metadata": {},
   "outputs": [],
   "source": [
    "df_ohe = df_ohe.loc[:,~df_ohe.columns.duplicated()]"
   ]
  },
  {
   "cell_type": "code",
   "execution_count": 9,
   "metadata": {},
   "outputs": [],
   "source": [
    "X = df_ohe.loc[:, df_ohe.columns !='yearly']\n",
    "y = df_ohe['yearly']"
   ]
  },
  {
   "cell_type": "code",
   "execution_count": 10,
   "metadata": {},
   "outputs": [],
   "source": [
    "from sklearn.model_selection import train_test_split\n",
    "\n",
    "X_train, X_test, y_train, y_test = train_test_split(X, y,\n",
    "                                                    train_size=0.75, test_size=0.25, random_state=42)"
   ]
  },
  {
   "cell_type": "code",
   "execution_count": 42,
   "metadata": {},
   "outputs": [
    {
     "name": "stdout",
     "output_type": "stream",
     "text": [
      "Fitting 10 folds for each of 100 candidates, totalling 1000 fits\n"
     ]
    },
    {
     "name": "stderr",
     "output_type": "stream",
     "text": [
      "[Parallel(n_jobs=-1)]: Using backend LokyBackend with 8 concurrent workers.\n",
      "[Parallel(n_jobs=-1)]: Done  34 tasks      | elapsed:    0.8s\n",
      "[Parallel(n_jobs=-1)]: Done 234 tasks      | elapsed:   17.1s\n",
      "[Parallel(n_jobs=-1)]: Done 437 tasks      | elapsed:   37.6s\n",
      "[Parallel(n_jobs=-1)]: Done 720 tasks      | elapsed:   58.4s\n",
      "[Parallel(n_jobs=-1)]: Done 1000 out of 1000 | elapsed:  1.4min finished\n"
     ]
    },
    {
     "name": "stdout",
     "output_type": "stream",
     "text": [
      "score: 0.11349438887508483\n",
      "params: {'colsample_bytree': 0.7700780475136861, 'gamma': 49.07487792587845, 'learning_rate': 0.7233960966217756, 'max_depth': 65, 'min_child_weight': 1325.1925474799777, 'n_estimators': 83, 'objective': 'reg:tweedie', 'reg_alpha': 382.89843507995596, 'subsample': 0.847370572449075}\n"
     ]
    }
   ],
   "source": [
    "from xgboost.sklearn import XGBRegressor  \n",
    "import scipy.stats as st\n",
    "\n",
    "one_to_left = st.beta(10, 1)  \n",
    "from_zero_positive = st.expon(0, 500)\n",
    "\n",
    "params = {  \n",
    "    \"n_estimators\": [x for x in range(5,100)],\n",
    "    \"max_depth\":[x for x in range(4,100)],\n",
    "    \"learning_rate\": st.uniform(0.0005, 1),\n",
    "    \"objective\":['reg:tweedie'],\n",
    "    \"colsample_bytree\": one_to_left,\n",
    "    \"subsample\": one_to_left,\n",
    "    \"gamma\": st.uniform(0, 100),\n",
    "    'reg_alpha': from_zero_positive,\n",
    "    \"min_child_weight\": from_zero_positive,\n",
    "}\n",
    "\n",
    "xgbreg = XGBRegressor(nthreads=-1)  \n",
    "from sklearn.model_selection import RandomizedSearchCV\n",
    "\n",
    "gs = RandomizedSearchCV(xgbreg, params, n_jobs=-1, verbose=2, cv=10, random_state=42, n_iter=100)  \n",
    "gs.fit(X_train, y_train)  \n",
    "print(f'score: {gs.best_score_}')\n",
    "print(f'params: {gs.best_params_}')\n",
    "      "
   ]
  },
  {
   "cell_type": "code",
   "execution_count": 43,
   "metadata": {},
   "outputs": [
    {
     "name": "stdout",
     "output_type": "stream",
     "text": [
      "Best params: \n",
      "colsample_bytree: 0.7700780475136861\n",
      "gamma: 49.07487792587845\n",
      "learning_rate: 0.7233960966217756\n",
      "max_depth: 65\n",
      "min_child_weight: 1325.1925474799777\n",
      "n_estimators: 83\n",
      "objective: 'reg:tweedie'\n",
      "reg_alpha: 382.89843507995596\n",
      "subsample: 0.847370572449075\n"
     ]
    }
   ],
   "source": [
    "best_params = gs.best_params_\n",
    "print(\"Best params: \")\n",
    "for param_name in sorted(best_params.keys()):\n",
    "    print('%s: %r' % (param_name, best_params[param_name]))"
   ]
  },
  {
   "cell_type": "code",
   "execution_count": 45,
   "metadata": {},
   "outputs": [
    {
     "data": {
      "text/plain": [
       "XGBRegressor(base_score=0.5, booster=None, colsample_bylevel=1,\n",
       "             colsample_bynode=1, colsample_bytree=0.7700780475136861,\n",
       "             gamma=49.07487792587845, gpu_id=-1, importance_type='gain',\n",
       "             interaction_constraints=None, learning_rate=0.7233960966217756,\n",
       "             max_delta_step=0, max_depth=65,\n",
       "             min_child_weight=1325.1925474799777, missing=nan,\n",
       "             monotone_constraints=None, n_estimators=83, n_jobs=0,\n",
       "             num_parallel_tree=1, objective='reg:tweedie', random_state=0,\n",
       "             reg_alpha=382.89843507995596, reg_lambda=1, scale_pos_weight=None,\n",
       "             subsample=0.847370572449075, tree_method=None,\n",
       "             validate_parameters=False, verbosity=None)"
      ]
     },
     "execution_count": 45,
     "metadata": {},
     "output_type": "execute_result"
    }
   ],
   "source": [
    "best_model = XGBRegressor(**best_params)\n",
    "best_model.fit(X_train, y_train)"
   ]
  },
  {
   "cell_type": "code",
   "execution_count": 49,
   "metadata": {},
   "outputs": [
    {
     "data": {
      "image/png": "[encoded data removed]",
      "text/plain": [
       "<Figure size 432x288 with 1 Axes>"
      ]
     },
     "metadata": {
      "needs_background": "light"
     },
     "output_type": "display_data"
    }
   ],
   "source": [
    "from xgboost import plot_tree\n",
    "import matplotlib.pyplot as plt\n",
    "\n",
    "plot_tree(best_model)\n",
    "plt.show()"
   ]
  },
  {
   "cell_type": "code",
   "execution_count": null,
   "metadata": {},
   "outputs": [],
   "source": []
  }
 ],
 "metadata": {
  "kernelspec": {
   "display_name": "Python 3",
   "language": "python",
   "name": "python3"
  },
  "language_info": {
   "codemirror_mode": {
    "name": "ipython",
    "version": 3
   },
   "file_extension": ".py",
   "mimetype": "text/x-python",
   "name": "python",
   "nbconvert_exporter": "python",
   "pygments_lexer": "ipython3",
   "version": "3.6.9"
  }
 },
 "nbformat": 4,
 "nbformat_minor": 4
}
